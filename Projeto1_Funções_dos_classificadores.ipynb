{
 "cells": [
  {
   "cell_type": "markdown",
   "metadata": {},
   "source": [
    "# Projeto 1 - Ciência dos Dados"
   ]
  },
  {
   "cell_type": "markdown",
   "metadata": {},
   "source": [
    "Nome: André Barboza de Braga Melo\n",
    "\n",
    "Nome: Rodrigo Anciães Patelli"
   ]
  },
  {
   "cell_type": "markdown",
   "metadata": {},
   "source": [
    "Atenção: Serão permitidos grupos de três pessoas, mas com uma rubrica mais exigente. Grupos deste tamanho precisarão fazer um questionário de avaliação de trabalho em equipe"
   ]
  },
  {
   "cell_type": "markdown",
   "metadata": {},
   "source": [
    "___\n",
    "Carregando algumas bibliotecas:"
   ]
  },
  {
   "cell_type": "code",
   "execution_count": 200,
   "metadata": {},
   "outputs": [],
   "source": [
    "%matplotlib inline\n",
    "import pandas as pd\n",
    "import matplotlib.pyplot as plt\n",
    "import numpy as np\n",
    "import os"
   ]
  },
  {
   "cell_type": "code",
   "execution_count": 201,
   "metadata": {
    "scrolled": false
   },
   "outputs": [
    {
     "name": "stdout",
     "output_type": "stream",
     "text": [
      "Esperamos trabalhar no diretório\n",
      "C:\\Users\\ivald\\OneDrive\\Desktop\\Rodrigo\\Insperzada\\Ciencia de Dados\\Projeto_1\n"
     ]
    }
   ],
   "source": [
    "print('Esperamos trabalhar no diretório')\n",
    "print(os.getcwd())"
   ]
  },
  {
   "cell_type": "markdown",
   "metadata": {},
   "source": [
    "Carregando a base de dados com os tweets classificados como relevantes e não relevantes:"
   ]
  },
  {
   "cell_type": "code",
   "execution_count": 202,
   "metadata": {},
   "outputs": [],
   "source": [
    "filename = 'League of Legends_classificado.xlsx'"
   ]
  },
  {
   "cell_type": "code",
   "execution_count": 203,
   "metadata": {},
   "outputs": [
    {
     "data": {
      "text/html": [
       "<div>\n",
       "<style scoped>\n",
       "    .dataframe tbody tr th:only-of-type {\n",
       "        vertical-align: middle;\n",
       "    }\n",
       "\n",
       "    .dataframe tbody tr th {\n",
       "        vertical-align: top;\n",
       "    }\n",
       "\n",
       "    .dataframe thead th {\n",
       "        text-align: right;\n",
       "    }\n",
       "</style>\n",
       "<table border=\"1\" class=\"dataframe\">\n",
       "  <thead>\n",
       "    <tr style=\"text-align: right;\">\n",
       "      <th></th>\n",
       "      <th>Treinamento</th>\n",
       "      <th>Relevância</th>\n",
       "    </tr>\n",
       "  </thead>\n",
       "  <tbody>\n",
       "    <tr>\n",
       "      <th>0</th>\n",
       "      <td>nao aguento mais jogar league of legends</td>\n",
       "      <td>1</td>\n",
       "    </tr>\n",
       "    <tr>\n",
       "      <th>1</th>\n",
       "      <td>ainda vou enfartar jogando league of legends\\n...</td>\n",
       "      <td>1</td>\n",
       "    </tr>\n",
       "    <tr>\n",
       "      <th>2</th>\n",
       "      <td>chegou a hora! está começando o primeiro episó...</td>\n",
       "      <td>0</td>\n",
       "    </tr>\n",
       "    <tr>\n",
       "      <th>3</th>\n",
       "      <td>@danielxd__1 • otaku viciado em doraminha core...</td>\n",
       "      <td>0</td>\n",
       "    </tr>\n",
       "    <tr>\n",
       "      <th>4</th>\n",
       "      <td>q dificil ser ruim nesse tal de league of legends</td>\n",
       "      <td>0</td>\n",
       "    </tr>\n",
       "  </tbody>\n",
       "</table>\n",
       "</div>"
      ],
      "text/plain": [
       "                                         Treinamento  Relevância\n",
       "0           nao aguento mais jogar league of legends           1\n",
       "1  ainda vou enfartar jogando league of legends\\n...           1\n",
       "2  chegou a hora! está começando o primeiro episó...           0\n",
       "3  @danielxd__1 • otaku viciado em doraminha core...           0\n",
       "4  q dificil ser ruim nesse tal de league of legends           0"
      ]
     },
     "execution_count": 203,
     "metadata": {},
     "output_type": "execute_result"
    }
   ],
   "source": [
    "train = pd.read_excel(filename)\n",
    "train.head(5)"
   ]
  },
  {
   "cell_type": "code",
   "execution_count": 204,
   "metadata": {},
   "outputs": [
    {
     "data": {
      "text/html": [
       "<div>\n",
       "<style scoped>\n",
       "    .dataframe tbody tr th:only-of-type {\n",
       "        vertical-align: middle;\n",
       "    }\n",
       "\n",
       "    .dataframe tbody tr th {\n",
       "        vertical-align: top;\n",
       "    }\n",
       "\n",
       "    .dataframe thead th {\n",
       "        text-align: right;\n",
       "    }\n",
       "</style>\n",
       "<table border=\"1\" class=\"dataframe\">\n",
       "  <thead>\n",
       "    <tr style=\"text-align: right;\">\n",
       "      <th></th>\n",
       "      <th>Teste</th>\n",
       "      <th>Relevância</th>\n",
       "    </tr>\n",
       "  </thead>\n",
       "  <tbody>\n",
       "    <tr>\n",
       "      <th>0</th>\n",
       "      <td>meus top artistas do spotify nas últimas seman...</td>\n",
       "      <td>0</td>\n",
       "    </tr>\n",
       "    <tr>\n",
       "      <th>1</th>\n",
       "      <td>\"enquanto estiver de pé\" foi a música-tema do ...</td>\n",
       "      <td>0</td>\n",
       "    </tr>\n",
       "    <tr>\n",
       "      <th>2</th>\n",
       "      <td>grevtar monstro sagrado do league of legends n...</td>\n",
       "      <td>0</td>\n",
       "    </tr>\n",
       "    <tr>\n",
       "      <th>3</th>\n",
       "      <td>@pedroxdgameplay league of legends é de graça ...</td>\n",
       "      <td>1</td>\n",
       "    </tr>\n",
       "    <tr>\n",
       "      <th>4</th>\n",
       "      <td>red canids kalunga é a grande vencedora do cam...</td>\n",
       "      <td>0</td>\n",
       "    </tr>\n",
       "  </tbody>\n",
       "</table>\n",
       "</div>"
      ],
      "text/plain": [
       "                                               Teste  Relevância\n",
       "0  meus top artistas do spotify nas últimas seman...           0\n",
       "1  \"enquanto estiver de pé\" foi a música-tema do ...           0\n",
       "2  grevtar monstro sagrado do league of legends n...           0\n",
       "3  @pedroxdgameplay league of legends é de graça ...           1\n",
       "4  red canids kalunga é a grande vencedora do cam...           0"
      ]
     },
     "execution_count": 204,
     "metadata": {},
     "output_type": "execute_result"
    }
   ],
   "source": [
    "test = pd.read_excel(filename, sheet_name = 'Teste')\n",
    "test.head(5)"
   ]
  },
  {
   "cell_type": "markdown",
   "metadata": {},
   "source": [
    "___\n",
    "## Classificador automático de sentimento\n"
   ]
  },
  {
   "cell_type": "markdown",
   "metadata": {},
   "source": [
    "Faça aqui uma descrição do seu produto e o que considerou como relevante ou não relevante na classificação dos tweets.\n",
    "\n",
    "ESCREVA AQUI... O produto que nós escolhemos é um videogame online muito famoso e popular chamado de League of Legends. Esse jogo tem um grande teor competitivo, porém sofre muito com toxicidade dos jogadores e ele é em geral grande alvo do ódio dos próprios jogadores. Para classifcar um tweet como relevante nós consideramos todos os que possuem opniões sobre o jogo como todo (desconsiderando opniões sobre personagens) e qualquer pessoa chamando outras para jogar, ambas essas considerções podem mostrar uma visão de como está a popularidade do jogo e como estão reagindo a ele."
   ]
  },
  {
   "cell_type": "markdown",
   "metadata": {},
   "source": [
    "___\n",
    "### Montando um Classificador Naive-Bayes\n",
    "\n",
    "Considerando apenas as mensagens da planilha Treinamento, ensine  seu classificador."
   ]
  },
  {
   "cell_type": "code",
   "execution_count": 205,
   "metadata": {},
   "outputs": [],
   "source": [
    "#Importando oque é permitido e nescessário\n",
    "import pandas as pd\n",
    "import numpy as np\n",
    "from IPython.display import display\n",
    "pd.options.display.max_rows = 13\n",
    "import re\n",
    "import emoji\n"
   ]
  },
  {
   "cell_type": "code",
   "execution_count": 206,
   "metadata": {},
   "outputs": [],
   "source": [
    "def cleanup(text):\n",
    "    \"\"\"\n",
    "        Função de limpeza muito simples que troca alguns sinais básicos por espaços\n",
    "    \"\"\"\n",
    "    #import string\n",
    "    punctuation = '[!-.:?;|•]' # Note que os sinais [] são delimitadores de um conjunto.\n",
    "    pattern = re.compile(punctuation)\n",
    "    text_subbed = re.sub(pattern, '', text)\n",
    "    return text_subbed\n",
    "    "
   ]
  },
  {
   "cell_type": "code",
   "execution_count": 207,
   "metadata": {},
   "outputs": [],
   "source": [
    "#for frase in train['Treinamento']:\n",
    "    #frase = cleanup(frase)\n",
    "    #frase = emoji.demojize(frase)\n",
    "    #teste = frase.split(' :')\n",
    "    #teste = teste.split(':')\n",
    "    #print(frase)\n",
    "    #print(teste)\n",
    "    #testando"
   ]
  },
  {
   "cell_type": "code",
   "execution_count": 208,
   "metadata": {},
   "outputs": [
    {
     "data": {
      "text/html": [
       "<div>\n",
       "<style scoped>\n",
       "    .dataframe tbody tr th:only-of-type {\n",
       "        vertical-align: middle;\n",
       "    }\n",
       "\n",
       "    .dataframe tbody tr th {\n",
       "        vertical-align: top;\n",
       "    }\n",
       "\n",
       "    .dataframe thead th {\n",
       "        text-align: right;\n",
       "    }\n",
       "</style>\n",
       "<table border=\"1\" class=\"dataframe\">\n",
       "  <thead>\n",
       "    <tr style=\"text-align: right;\">\n",
       "      <th></th>\n",
       "      <th>Treinamento</th>\n",
       "      <th>Relevância</th>\n",
       "    </tr>\n",
       "  </thead>\n",
       "  <tbody>\n",
       "    <tr>\n",
       "      <th>0</th>\n",
       "      <td>nao aguento mais jogar league of legends</td>\n",
       "      <td>1</td>\n",
       "    </tr>\n",
       "    <tr>\n",
       "      <th>1</th>\n",
       "      <td>ainda vou enfartar jogando league of legends\\n...</td>\n",
       "      <td>1</td>\n",
       "    </tr>\n",
       "    <tr>\n",
       "      <th>6</th>\n",
       "      <td>caraaaaaaaaaaaaaaaaaaaaaaaalho olha essa abert...</td>\n",
       "      <td>1</td>\n",
       "    </tr>\n",
       "    <tr>\n",
       "      <th>9</th>\n",
       "      <td>tuiter me sugeriu o tópico league of legends p...</td>\n",
       "      <td>1</td>\n",
       "    </tr>\n",
       "    <tr>\n",
       "      <th>10</th>\n",
       "      <td>independente de qm ganhar hj qm ganha é o leag...</td>\n",
       "      <td>1</td>\n",
       "    </tr>\n",
       "    <tr>\n",
       "      <th>...</th>\n",
       "      <td>...</td>\n",
       "      <td>...</td>\n",
       "    </tr>\n",
       "    <tr>\n",
       "      <th>489</th>\n",
       "      <td>@kiffarr não laura kiffaz, prefiro 100 vidas c...</td>\n",
       "      <td>1</td>\n",
       "    </tr>\n",
       "    <tr>\n",
       "      <th>492</th>\n",
       "      <td>muita diversão nesse league of legends 🗣🤪🤬🤬🤬🤬🤬...</td>\n",
       "      <td>1</td>\n",
       "    </tr>\n",
       "    <tr>\n",
       "      <th>495</th>\n",
       "      <td>quero uma festa de aniversário com o tema leag...</td>\n",
       "      <td>1</td>\n",
       "    </tr>\n",
       "    <tr>\n",
       "      <th>497</th>\n",
       "      <td>hoje é dia do sexo\\nvou jogar um league of leg...</td>\n",
       "      <td>1</td>\n",
       "    </tr>\n",
       "    <tr>\n",
       "      <th>498</th>\n",
       "      <td>pessoas que acordam e vão pro pc jogar league ...</td>\n",
       "      <td>1</td>\n",
       "    </tr>\n",
       "  </tbody>\n",
       "</table>\n",
       "<p>240 rows × 2 columns</p>\n",
       "</div>"
      ],
      "text/plain": [
       "                                           Treinamento  Relevância\n",
       "0             nao aguento mais jogar league of legends           1\n",
       "1    ainda vou enfartar jogando league of legends\\n...           1\n",
       "6    caraaaaaaaaaaaaaaaaaaaaaaaalho olha essa abert...           1\n",
       "9    tuiter me sugeriu o tópico league of legends p...           1\n",
       "10   independente de qm ganhar hj qm ganha é o leag...           1\n",
       "..                                                 ...         ...\n",
       "489  @kiffarr não laura kiffaz, prefiro 100 vidas c...           1\n",
       "492  muita diversão nesse league of legends 🗣🤪🤬🤬🤬🤬🤬...           1\n",
       "495  quero uma festa de aniversário com o tema leag...           1\n",
       "497  hoje é dia do sexo\\nvou jogar um league of leg...           1\n",
       "498  pessoas que acordam e vão pro pc jogar league ...           1\n",
       "\n",
       "[240 rows x 2 columns]"
      ]
     },
     "execution_count": 208,
     "metadata": {},
     "output_type": "execute_result"
    }
   ],
   "source": [
    "trainR = train.loc[train['Relevância']==1]\n",
    "trainR"
   ]
  },
  {
   "cell_type": "code",
   "execution_count": 209,
   "metadata": {},
   "outputs": [
    {
     "data": {
      "text/plain": [
       "240"
      ]
     },
     "execution_count": 209,
     "metadata": {},
     "output_type": "execute_result"
    }
   ],
   "source": [
    "len(trainR['Treinamento'])"
   ]
  },
  {
   "cell_type": "code",
   "execution_count": 210,
   "metadata": {},
   "outputs": [
    {
     "data": {
      "text/html": [
       "<div>\n",
       "<style scoped>\n",
       "    .dataframe tbody tr th:only-of-type {\n",
       "        vertical-align: middle;\n",
       "    }\n",
       "\n",
       "    .dataframe tbody tr th {\n",
       "        vertical-align: top;\n",
       "    }\n",
       "\n",
       "    .dataframe thead th {\n",
       "        text-align: right;\n",
       "    }\n",
       "</style>\n",
       "<table border=\"1\" class=\"dataframe\">\n",
       "  <thead>\n",
       "    <tr style=\"text-align: right;\">\n",
       "      <th></th>\n",
       "      <th>Treinamento</th>\n",
       "      <th>Relevância</th>\n",
       "    </tr>\n",
       "  </thead>\n",
       "  <tbody>\n",
       "    <tr>\n",
       "      <th>2</th>\n",
       "      <td>chegou a hora! está começando o primeiro episó...</td>\n",
       "      <td>0</td>\n",
       "    </tr>\n",
       "    <tr>\n",
       "      <th>3</th>\n",
       "      <td>@danielxd__1 • otaku viciado em doraminha core...</td>\n",
       "      <td>0</td>\n",
       "    </tr>\n",
       "    <tr>\n",
       "      <th>4</th>\n",
       "      <td>q dificil ser ruim nesse tal de league of legends</td>\n",
       "      <td>0</td>\n",
       "    </tr>\n",
       "    <tr>\n",
       "      <th>5</th>\n",
       "      <td>quando minha ram chegar vou baforar muito leag...</td>\n",
       "      <td>0</td>\n",
       "    </tr>\n",
       "    <tr>\n",
       "      <th>7</th>\n",
       "      <td>é incrível a semelhança que eu tenho com a vex...</td>\n",
       "      <td>0</td>\n",
       "    </tr>\n",
       "    <tr>\n",
       "      <th>...</th>\n",
       "      <td>...</td>\n",
       "      <td>...</td>\n",
       "    </tr>\n",
       "    <tr>\n",
       "      <th>491</th>\n",
       "      <td>mano eu não acredito nisso kkkkjkkkkjjkk\\n\\nva...</td>\n",
       "      <td>0</td>\n",
       "    </tr>\n",
       "    <tr>\n",
       "      <th>493</th>\n",
       "      <td>@lumyng porque eu li league of legends é dia d...</td>\n",
       "      <td>0</td>\n",
       "    </tr>\n",
       "    <tr>\n",
       "      <th>494</th>\n",
       "      <td>@heartdan @delveracris tu faz desenho da rinha...</td>\n",
       "      <td>0</td>\n",
       "    </tr>\n",
       "    <tr>\n",
       "      <th>496</th>\n",
       "      <td>@marianagrazz jogue league of legends aí você ...</td>\n",
       "      <td>0</td>\n",
       "    </tr>\n",
       "    <tr>\n",
       "      <th>499</th>\n",
       "      <td>no dia que nerfarem a lux sera o fim de league...</td>\n",
       "      <td>0</td>\n",
       "    </tr>\n",
       "  </tbody>\n",
       "</table>\n",
       "<p>260 rows × 2 columns</p>\n",
       "</div>"
      ],
      "text/plain": [
       "                                           Treinamento  Relevância\n",
       "2    chegou a hora! está começando o primeiro episó...           0\n",
       "3    @danielxd__1 • otaku viciado em doraminha core...           0\n",
       "4    q dificil ser ruim nesse tal de league of legends           0\n",
       "5    quando minha ram chegar vou baforar muito leag...           0\n",
       "7    é incrível a semelhança que eu tenho com a vex...           0\n",
       "..                                                 ...         ...\n",
       "491  mano eu não acredito nisso kkkkjkkkkjjkk\\n\\nva...           0\n",
       "493  @lumyng porque eu li league of legends é dia d...           0\n",
       "494  @heartdan @delveracris tu faz desenho da rinha...           0\n",
       "496  @marianagrazz jogue league of legends aí você ...           0\n",
       "499  no dia que nerfarem a lux sera o fim de league...           0\n",
       "\n",
       "[260 rows x 2 columns]"
      ]
     },
     "execution_count": 210,
     "metadata": {},
     "output_type": "execute_result"
    }
   ],
   "source": [
    "trainI = train.loc[train['Relevância']==0]\n",
    "trainI"
   ]
  },
  {
   "cell_type": "code",
   "execution_count": 211,
   "metadata": {},
   "outputs": [
    {
     "data": {
      "text/plain": [
       "260"
      ]
     },
     "execution_count": 211,
     "metadata": {},
     "output_type": "execute_result"
    }
   ],
   "source": [
    "len(trainI['Treinamento'])"
   ]
  },
  {
   "cell_type": "markdown",
   "metadata": {},
   "source": [
    "# O classificador abaixo foi feito para averiguar a eficiencia teorica\n",
    "\n",
    "# Ele está classificando os tweets da própria base que ele usa pro  treinamento"
   ]
  },
  {
   "cell_type": "code",
   "execution_count": 212,
   "metadata": {},
   "outputs": [],
   "source": [
    "#Classificador feito para averiguar a eficiencia teorica\n",
    "#Ele está classificando os tweets da própria base que ele usa pro  treinamento\n",
    "\n",
    "\n",
    "\n",
    "def classificador(train, tweets):\n",
    "    \n",
    "    stopwords = ['a','o','da','de','do','e']\n",
    "    \n",
    "    trainR = train.loc[train['Relevância']==1]\n",
    "    trainI = train.loc[train['Relevância']==0]\n",
    "    \n",
    "    lista_total = ''    \n",
    "    for frase in train[tweets]:\n",
    "        frase = emoji.demojize(frase)\n",
    "        frase.strip('\\n')\n",
    "        frase = cleanup(frase)\n",
    "        lista_total += frase\n",
    "    lista_total = lista_total.split(' ')\n",
    "    \n",
    "    for word in lista_total:\n",
    "        for stopword in stopwords:\n",
    "            if stopword in lista_total:\n",
    "                lista_total.remove(stopword)\n",
    "            \n",
    "\n",
    "    #lista_total\n",
    "    serie_total = pd.Series(lista_total)\n",
    "\n",
    "    \n",
    "    lista_re = ''\n",
    "    for frase in trainR[tweets]:\n",
    "        frase = emoji.demojize(frase)\n",
    "        frase.strip('\\n')\n",
    "        frase = cleanup(frase)\n",
    "        lista_re += frase\n",
    "    lista_re = lista_re.split(' ')\n",
    "    #lista_re\n",
    "    serie_re = pd.Series(lista_re)\n",
    "    \n",
    "    lista_ir = ''\n",
    "    for frase in trainI[tweets]:\n",
    "        frase = emoji.demojize(frase)\n",
    "        frase.strip('\\n')\n",
    "        frase = cleanup(frase)\n",
    "        lista_ir += frase\n",
    "    lista_ir = lista_ir.split(' ')\n",
    "    #lista_ir\n",
    "    serie_ir = pd.Series(lista_ir)\n",
    "    \n",
    "    frequencia_total = serie_total.value_counts()\n",
    "    frequencia_re = serie_re.value_counts()\n",
    "    frequencia_ir = serie_ir.value_counts()\n",
    "    \n",
    "    probR = len(lista_re)/len(lista_total)\n",
    "    probI = len(lista_ir)/len(lista_total)\n",
    "    \n",
    "    #relevante\n",
    "    l_teste = []\n",
    "    for frase in train[tweets]:\n",
    "        prob_frase_R = 1\n",
    "        frase = emoji.demojize(frase)\n",
    "        frase.strip('\\n')\n",
    "        frase = cleanup(frase)\n",
    "        palavras = frase.split(' ')    \n",
    "        for palavra in palavras:\n",
    "            if palavra in frequencia_re:\n",
    "                pro = (frequencia_re[palavra]+1)/(len(frequencia_re) + len(frequencia_total))\n",
    "                #print('funciona')\n",
    "            else:\n",
    "                pro = 1/(len(frequencia_re) + len(frequencia_total)) #Esse daqui é um TESTE pra suavização, não foi feito com o objetivo de estar certo\n",
    "                #print('funciona tbm')\n",
    "            prob_frase_R *= pro\n",
    "        l_teste.append(prob_frase_R * probR)\n",
    "        \n",
    "    #Irelevante\n",
    "    IR_teste = []\n",
    "    for frase in train[tweets]:\n",
    "        prob_frase_IR = 1\n",
    "        frase = emoji.demojize(frase)\n",
    "        frase.strip('\\n')\n",
    "        frase = cleanup(frase)\n",
    "        palavras = frase.split(' ')\n",
    "    \n",
    "        for palavra in palavras:\n",
    "            if palavra in frequencia_ir:\n",
    "                pro = (frequencia_ir[palavra]+1)/(len(frequencia_ir) + len(frequencia_total))\n",
    "                #print('funciona')\n",
    "            else:\n",
    "                pro = 1/(len(frequencia_ir) + len(frequencia_total)) #Esse daqui é um TESTE pra suavização, não foi feito com o objetivo de estar certo\n",
    "                #print('funciona tbm')\n",
    "            prob_frase_IR *= pro\n",
    "        IR_teste.append(prob_frase_IR * probI)\n",
    "        \n",
    "    i = 0\n",
    "    classificacao = []\n",
    "    while i < len(train[tweets]):\n",
    "        qual_e = 1\n",
    "        if l_teste[i]< IR_teste[i]:\n",
    "            cl = 0\n",
    "        else:\n",
    "            cl = 1\n",
    "        \n",
    "        classificacao.append(cl)\n",
    "        i += 1\n",
    "    \n",
    "    final_train = train\n",
    "    final_train['classificador'] = classificacao\n",
    "    \n",
    "    return final_train\n",
    "    \n",
    "\n",
    "\n"
   ]
  },
  {
   "cell_type": "markdown",
   "metadata": {},
   "source": [
    "# O classificador ABAIXO é mais útil, ele usa a base de treinamento para aprender e depois classifica a base de dados escolhida\n",
    "\n",
    "# Ele utiliza para aprender apenas a base de treinamento\n"
   ]
  },
  {
   "cell_type": "code",
   "execution_count": 213,
   "metadata": {},
   "outputs": [],
   "source": [
    "\n",
    "#Esse classificador é mais útil, ele usa a base de treinamento para aprender e depois classifica a base de dados escolhida\n",
    "#Ele utiliza para aprender apenas a base de treinamento\n",
    "\n",
    "def classificador_aprende(train, tweets, teste, tweets_teste):\n",
    "    \n",
    "    stopwords = ['a','o','da','de','do','e']\n",
    "    \n",
    "    trainR = train.loc[train['Relevância']==1]\n",
    "    trainI = train.loc[train['Relevância']==0]\n",
    "    \n",
    "    lista_total = ''    \n",
    "    for frase in train[tweets]:\n",
    "        frase = emoji.demojize(frase)\n",
    "        frase.strip('\\n')\n",
    "        frase = cleanup(frase)\n",
    "        lista_total += frase\n",
    "    lista_total = lista_total.split(' ')\n",
    "    \n",
    "    \n",
    "    for word in lista_total:\n",
    "        for stopword in stopwords:\n",
    "            if stopword in lista_total:\n",
    "                lista_total.remove(stopword)\n",
    "            \n",
    "            \n",
    "    #lista_total\n",
    "    serie_total = pd.Series(lista_total)\n",
    "\n",
    "    \n",
    "    lista_re = ''\n",
    "    for frase in trainR[tweets]:\n",
    "        frase = emoji.demojize(frase)\n",
    "        frase.strip('\\n')\n",
    "        frase = cleanup(frase)\n",
    "        lista_re += frase\n",
    "    lista_re = lista_re.split(' ')\n",
    "    #lista_re\n",
    "    serie_re = pd.Series(lista_re)\n",
    "    \n",
    "    lista_ir = ''\n",
    "    for frase in trainI[tweets]:\n",
    "        frase = emoji.demojize(frase)\n",
    "        frase.strip('\\n')\n",
    "        frase = cleanup(frase)\n",
    "        lista_ir += frase\n",
    "    lista_ir = lista_ir.split(' ')\n",
    "    #lista_ir\n",
    "    serie_ir = pd.Series(lista_ir)\n",
    "    \n",
    "    frequencia_total = serie_total.value_counts()\n",
    "    frequencia_re = serie_re.value_counts()\n",
    "    frequencia_ir = serie_ir.value_counts()\n",
    "    \n",
    "    probR = len(lista_re)/len(lista_total)\n",
    "    probI = len(lista_ir)/len(lista_total)\n",
    "    \n",
    "    #relevante\n",
    "    l_teste = []\n",
    "    for frase in teste[tweets_teste]:\n",
    "        prob_frase_R = 1\n",
    "        frase = emoji.demojize(frase)\n",
    "        frase.strip('\\n')\n",
    "        frase = cleanup(frase)\n",
    "        palavras = frase.split(' ')    \n",
    "        for palavra in palavras:\n",
    "            if palavra in frequencia_re:\n",
    "                pro = (frequencia_re[palavra]+1)/(len(frequencia_re) + len(frequencia_total))\n",
    "                #print('funciona')\n",
    "            else:\n",
    "                pro = 1/(len(frequencia_re) + len(frequencia_total)) #Esse daqui é um TESTE pra suavização, não foi feito com o objetivo de estar certo\n",
    "                #print('funciona tbm')\n",
    "            prob_frase_R *= pro\n",
    "        l_teste.append(prob_frase_R * probR)\n",
    "        \n",
    "    #Irelevante\n",
    "    IR_teste = []\n",
    "    for frase in teste[tweets_teste]:\n",
    "        prob_frase_IR = 1\n",
    "        frase = emoji.demojize(frase)\n",
    "        frase.strip('\\n')\n",
    "        frase = cleanup(frase)\n",
    "        palavras = frase.split(' ')\n",
    "    \n",
    "        for palavra in palavras:\n",
    "            if palavra in frequencia_ir:\n",
    "                pro = (frequencia_ir[palavra]+1)/(len(frequencia_ir) + len(frequencia_total))\n",
    "                #print('funciona')\n",
    "            else:\n",
    "                pro = 1/(len(frequencia_ir) + len(frequencia_total)) #Esse daqui é um TESTE pra suavização, não foi feito com o objetivo de estar certo\n",
    "                #print('funciona tbm')\n",
    "            prob_frase_IR *= pro\n",
    "        IR_teste.append(prob_frase_IR * probI)\n",
    "        \n",
    "    i = 0\n",
    "    classificacao = []\n",
    "    while i < len(teste[tweets_teste]):\n",
    "        qual_e = 1\n",
    "        if l_teste[i]< IR_teste[i]:\n",
    "            cl = 0\n",
    "        else:\n",
    "            cl = 1\n",
    "        \n",
    "        classificacao.append(cl)\n",
    "        i += 1\n",
    "    \n",
    "    final_train = teste\n",
    "    final_train['classificador'] = classificacao\n",
    "    \n",
    "    return final_train"
   ]
  },
  {
   "cell_type": "code",
   "execution_count": 214,
   "metadata": {},
   "outputs": [],
   "source": [
    "#-------------------------------------------------------------------------------------------------------------------------------"
   ]
  },
  {
   "cell_type": "markdown",
   "metadata": {},
   "source": [
    "___\n",
    "### Verificando a performance do Classificador\n",
    "\n",
    "Agora você deve testar o seu classificador com a base de Testes."
   ]
  },
  {
   "cell_type": "markdown",
   "metadata": {},
   "source": [
    "# Primeiramente vamos averiguar a eficiencia do classificador classificando a própria base que ele usa para aprender"
   ]
  },
  {
   "cell_type": "code",
   "execution_count": 215,
   "metadata": {},
   "outputs": [],
   "source": [
    "test_classf = classificador(test, 'Teste')"
   ]
  },
  {
   "cell_type": "code",
   "execution_count": 216,
   "metadata": {},
   "outputs": [
    {
     "data": {
      "text/html": [
       "<div>\n",
       "<style scoped>\n",
       "    .dataframe tbody tr th:only-of-type {\n",
       "        vertical-align: middle;\n",
       "    }\n",
       "\n",
       "    .dataframe tbody tr th {\n",
       "        vertical-align: top;\n",
       "    }\n",
       "\n",
       "    .dataframe thead th {\n",
       "        text-align: right;\n",
       "    }\n",
       "</style>\n",
       "<table border=\"1\" class=\"dataframe\">\n",
       "  <thead>\n",
       "    <tr style=\"text-align: right;\">\n",
       "      <th></th>\n",
       "      <th>Teste</th>\n",
       "      <th>Relevância</th>\n",
       "      <th>classificador</th>\n",
       "    </tr>\n",
       "  </thead>\n",
       "  <tbody>\n",
       "    <tr>\n",
       "      <th>0</th>\n",
       "      <td>meus top artistas do spotify nas últimas seman...</td>\n",
       "      <td>0</td>\n",
       "      <td>0</td>\n",
       "    </tr>\n",
       "    <tr>\n",
       "      <th>1</th>\n",
       "      <td>\"enquanto estiver de pé\" foi a música-tema do ...</td>\n",
       "      <td>0</td>\n",
       "      <td>0</td>\n",
       "    </tr>\n",
       "    <tr>\n",
       "      <th>2</th>\n",
       "      <td>grevtar monstro sagrado do league of legends n...</td>\n",
       "      <td>0</td>\n",
       "      <td>0</td>\n",
       "    </tr>\n",
       "    <tr>\n",
       "      <th>3</th>\n",
       "      <td>@pedroxdgameplay league of legends é de graça ...</td>\n",
       "      <td>1</td>\n",
       "      <td>1</td>\n",
       "    </tr>\n",
       "    <tr>\n",
       "      <th>4</th>\n",
       "      <td>red canids kalunga é a grande vencedora do cam...</td>\n",
       "      <td>0</td>\n",
       "      <td>0</td>\n",
       "    </tr>\n",
       "    <tr>\n",
       "      <th>...</th>\n",
       "      <td>...</td>\n",
       "      <td>...</td>\n",
       "      <td>...</td>\n",
       "    </tr>\n",
       "    <tr>\n",
       "      <th>195</th>\n",
       "      <td>@tecarnaval padrao do jogador de league of leg...</td>\n",
       "      <td>0</td>\n",
       "      <td>0</td>\n",
       "    </tr>\n",
       "    <tr>\n",
       "      <th>196</th>\n",
       "      <td>jogar de akali = felicidade no league of legen...</td>\n",
       "      <td>1</td>\n",
       "      <td>1</td>\n",
       "    </tr>\n",
       "    <tr>\n",
       "      <th>197</th>\n",
       "      <td>mais um dia de trabalho concluido nao sinto me...</td>\n",
       "      <td>0</td>\n",
       "      <td>0</td>\n",
       "    </tr>\n",
       "    <tr>\n",
       "      <th>198</th>\n",
       "      <td>@itsamedoug @pistolagirl1 vou ter que te dar u...</td>\n",
       "      <td>0</td>\n",
       "      <td>0</td>\n",
       "    </tr>\n",
       "    <tr>\n",
       "      <th>199</th>\n",
       "      <td>league of legends é com certeza um dos jogos j...</td>\n",
       "      <td>0</td>\n",
       "      <td>0</td>\n",
       "    </tr>\n",
       "  </tbody>\n",
       "</table>\n",
       "<p>200 rows × 3 columns</p>\n",
       "</div>"
      ],
      "text/plain": [
       "                                                 Teste  Relevância  \\\n",
       "0    meus top artistas do spotify nas últimas seman...           0   \n",
       "1    \"enquanto estiver de pé\" foi a música-tema do ...           0   \n",
       "2    grevtar monstro sagrado do league of legends n...           0   \n",
       "3    @pedroxdgameplay league of legends é de graça ...           1   \n",
       "4    red canids kalunga é a grande vencedora do cam...           0   \n",
       "..                                                 ...         ...   \n",
       "195  @tecarnaval padrao do jogador de league of leg...           0   \n",
       "196  jogar de akali = felicidade no league of legen...           1   \n",
       "197  mais um dia de trabalho concluido nao sinto me...           0   \n",
       "198  @itsamedoug @pistolagirl1 vou ter que te dar u...           0   \n",
       "199  league of legends é com certeza um dos jogos j...           0   \n",
       "\n",
       "     classificador  \n",
       "0                0  \n",
       "1                0  \n",
       "2                0  \n",
       "3                1  \n",
       "4                0  \n",
       "..             ...  \n",
       "195              0  \n",
       "196              1  \n",
       "197              0  \n",
       "198              0  \n",
       "199              0  \n",
       "\n",
       "[200 rows x 3 columns]"
      ]
     },
     "execution_count": 216,
     "metadata": {},
     "output_type": "execute_result"
    }
   ],
   "source": [
    "test_classf"
   ]
  },
  {
   "cell_type": "code",
   "execution_count": 217,
   "metadata": {},
   "outputs": [],
   "source": [
    "#Essa parte de baixo é só um teste que funciona só com o treinamneto para classificar"
   ]
  },
  {
   "cell_type": "code",
   "execution_count": 218,
   "metadata": {},
   "outputs": [
    {
     "data": {
      "text/html": [
       "<div>\n",
       "<style scoped>\n",
       "    .dataframe tbody tr th:only-of-type {\n",
       "        vertical-align: middle;\n",
       "    }\n",
       "\n",
       "    .dataframe tbody tr th {\n",
       "        vertical-align: top;\n",
       "    }\n",
       "\n",
       "    .dataframe thead th {\n",
       "        text-align: right;\n",
       "    }\n",
       "</style>\n",
       "<table border=\"1\" class=\"dataframe\">\n",
       "  <thead>\n",
       "    <tr style=\"text-align: right;\">\n",
       "      <th>classificador</th>\n",
       "      <th>0</th>\n",
       "      <th>1</th>\n",
       "    </tr>\n",
       "    <tr>\n",
       "      <th>Relevância</th>\n",
       "      <th></th>\n",
       "      <th></th>\n",
       "    </tr>\n",
       "  </thead>\n",
       "  <tbody>\n",
       "    <tr>\n",
       "      <th>0</th>\n",
       "      <td>0.595</td>\n",
       "      <td>0.015</td>\n",
       "    </tr>\n",
       "    <tr>\n",
       "      <th>1</th>\n",
       "      <td>0.035</td>\n",
       "      <td>0.355</td>\n",
       "    </tr>\n",
       "  </tbody>\n",
       "</table>\n",
       "</div>"
      ],
      "text/plain": [
       "classificador      0      1\n",
       "Relevância                 \n",
       "0              0.595  0.015\n",
       "1              0.035  0.355"
      ]
     },
     "execution_count": 218,
     "metadata": {},
     "output_type": "execute_result"
    }
   ],
   "source": [
    "analise_t = pd.crosstab(test_classf['Relevância'], test_classf['classificador'],normalize=True)\n",
    "analise_t\n"
   ]
  },
  {
   "cell_type": "code",
   "execution_count": 219,
   "metadata": {},
   "outputs": [
    {
     "name": "stdout",
     "output_type": "stream",
     "text": [
      "O classificador acertou a classificação de 0.98 das mensagens irrelevantes e errou 0.02\n"
     ]
    }
   ],
   "source": [
    "pctg_verd_posit = analise_t.iloc[1,1]/(analise_t.iloc[1,1] + analise_t.iloc[1,0])\n",
    "pctg_falso_negat = analise_t.iloc[1,0]/(analise_t.iloc[1,1] + analise_t.iloc[1,0])\n",
    "pctg_verd_negat = analise_t.iloc[0,0]/(analise_t.iloc[0,0] + analise_t.iloc[0,1])\n",
    "pctg_falso_posit = analise_t.iloc[0,1]/(analise_t.iloc[0,0] + analise_t.iloc[0,1])\n",
    "\n",
    "print('O classificador acertou a classificação de {0:.2f} das mensagens irrelevantes e errou {1:.2f}'.format(pctg_verd_negat,pctg_falso_posit))"
   ]
  },
  {
   "cell_type": "code",
   "execution_count": 220,
   "metadata": {},
   "outputs": [
    {
     "name": "stdout",
     "output_type": "stream",
     "text": [
      "O classificador acertou a classificação de 0.91 das mensagens relevantes e errou 0.09\n"
     ]
    }
   ],
   "source": [
    "print('O classificador acertou a classificação de {0:.2f} das mensagens relevantes e errou {1:.2f}'.format(pctg_verd_posit,pctg_falso_negat))"
   ]
  },
  {
   "cell_type": "markdown",
   "metadata": {},
   "source": [
    "# Agora na céluslas de baixo será testado o classificador que aprende com o treinamento e usa oque obteve para classificar o teste"
   ]
  },
  {
   "cell_type": "code",
   "execution_count": 221,
   "metadata": {},
   "outputs": [],
   "source": [
    "test_classf_aprende = classificador_aprende(train,'Treinamento', test, 'Teste')"
   ]
  },
  {
   "cell_type": "code",
   "execution_count": 222,
   "metadata": {},
   "outputs": [
    {
     "data": {
      "text/html": [
       "<div>\n",
       "<style scoped>\n",
       "    .dataframe tbody tr th:only-of-type {\n",
       "        vertical-align: middle;\n",
       "    }\n",
       "\n",
       "    .dataframe tbody tr th {\n",
       "        vertical-align: top;\n",
       "    }\n",
       "\n",
       "    .dataframe thead th {\n",
       "        text-align: right;\n",
       "    }\n",
       "</style>\n",
       "<table border=\"1\" class=\"dataframe\">\n",
       "  <thead>\n",
       "    <tr style=\"text-align: right;\">\n",
       "      <th></th>\n",
       "      <th>Teste</th>\n",
       "      <th>Relevância</th>\n",
       "      <th>classificador</th>\n",
       "    </tr>\n",
       "  </thead>\n",
       "  <tbody>\n",
       "    <tr>\n",
       "      <th>0</th>\n",
       "      <td>meus top artistas do spotify nas últimas seman...</td>\n",
       "      <td>0</td>\n",
       "      <td>1</td>\n",
       "    </tr>\n",
       "    <tr>\n",
       "      <th>1</th>\n",
       "      <td>\"enquanto estiver de pé\" foi a música-tema do ...</td>\n",
       "      <td>0</td>\n",
       "      <td>0</td>\n",
       "    </tr>\n",
       "    <tr>\n",
       "      <th>2</th>\n",
       "      <td>grevtar monstro sagrado do league of legends n...</td>\n",
       "      <td>0</td>\n",
       "      <td>0</td>\n",
       "    </tr>\n",
       "    <tr>\n",
       "      <th>3</th>\n",
       "      <td>@pedroxdgameplay league of legends é de graça ...</td>\n",
       "      <td>1</td>\n",
       "      <td>0</td>\n",
       "    </tr>\n",
       "    <tr>\n",
       "      <th>4</th>\n",
       "      <td>red canids kalunga é a grande vencedora do cam...</td>\n",
       "      <td>0</td>\n",
       "      <td>0</td>\n",
       "    </tr>\n",
       "    <tr>\n",
       "      <th>...</th>\n",
       "      <td>...</td>\n",
       "      <td>...</td>\n",
       "      <td>...</td>\n",
       "    </tr>\n",
       "    <tr>\n",
       "      <th>195</th>\n",
       "      <td>@tecarnaval padrao do jogador de league of leg...</td>\n",
       "      <td>0</td>\n",
       "      <td>0</td>\n",
       "    </tr>\n",
       "    <tr>\n",
       "      <th>196</th>\n",
       "      <td>jogar de akali = felicidade no league of legen...</td>\n",
       "      <td>1</td>\n",
       "      <td>1</td>\n",
       "    </tr>\n",
       "    <tr>\n",
       "      <th>197</th>\n",
       "      <td>mais um dia de trabalho concluido nao sinto me...</td>\n",
       "      <td>0</td>\n",
       "      <td>1</td>\n",
       "    </tr>\n",
       "    <tr>\n",
       "      <th>198</th>\n",
       "      <td>@itsamedoug @pistolagirl1 vou ter que te dar u...</td>\n",
       "      <td>0</td>\n",
       "      <td>0</td>\n",
       "    </tr>\n",
       "    <tr>\n",
       "      <th>199</th>\n",
       "      <td>league of legends é com certeza um dos jogos j...</td>\n",
       "      <td>0</td>\n",
       "      <td>0</td>\n",
       "    </tr>\n",
       "  </tbody>\n",
       "</table>\n",
       "<p>200 rows × 3 columns</p>\n",
       "</div>"
      ],
      "text/plain": [
       "                                                 Teste  Relevância  \\\n",
       "0    meus top artistas do spotify nas últimas seman...           0   \n",
       "1    \"enquanto estiver de pé\" foi a música-tema do ...           0   \n",
       "2    grevtar monstro sagrado do league of legends n...           0   \n",
       "3    @pedroxdgameplay league of legends é de graça ...           1   \n",
       "4    red canids kalunga é a grande vencedora do cam...           0   \n",
       "..                                                 ...         ...   \n",
       "195  @tecarnaval padrao do jogador de league of leg...           0   \n",
       "196  jogar de akali = felicidade no league of legen...           1   \n",
       "197  mais um dia de trabalho concluido nao sinto me...           0   \n",
       "198  @itsamedoug @pistolagirl1 vou ter que te dar u...           0   \n",
       "199  league of legends é com certeza um dos jogos j...           0   \n",
       "\n",
       "     classificador  \n",
       "0                1  \n",
       "1                0  \n",
       "2                0  \n",
       "3                0  \n",
       "4                0  \n",
       "..             ...  \n",
       "195              0  \n",
       "196              1  \n",
       "197              1  \n",
       "198              0  \n",
       "199              0  \n",
       "\n",
       "[200 rows x 3 columns]"
      ]
     },
     "execution_count": 222,
     "metadata": {},
     "output_type": "execute_result"
    }
   ],
   "source": [
    "test_classf_aprende"
   ]
  },
  {
   "cell_type": "code",
   "execution_count": 223,
   "metadata": {},
   "outputs": [
    {
     "data": {
      "text/html": [
       "<div>\n",
       "<style scoped>\n",
       "    .dataframe tbody tr th:only-of-type {\n",
       "        vertical-align: middle;\n",
       "    }\n",
       "\n",
       "    .dataframe tbody tr th {\n",
       "        vertical-align: top;\n",
       "    }\n",
       "\n",
       "    .dataframe thead th {\n",
       "        text-align: right;\n",
       "    }\n",
       "</style>\n",
       "<table border=\"1\" class=\"dataframe\">\n",
       "  <thead>\n",
       "    <tr style=\"text-align: right;\">\n",
       "      <th>classificador</th>\n",
       "      <th>0</th>\n",
       "      <th>1</th>\n",
       "    </tr>\n",
       "    <tr>\n",
       "      <th>Relevância</th>\n",
       "      <th></th>\n",
       "      <th></th>\n",
       "    </tr>\n",
       "  </thead>\n",
       "  <tbody>\n",
       "    <tr>\n",
       "      <th>0</th>\n",
       "      <td>0.415</td>\n",
       "      <td>0.195</td>\n",
       "    </tr>\n",
       "    <tr>\n",
       "      <th>1</th>\n",
       "      <td>0.170</td>\n",
       "      <td>0.220</td>\n",
       "    </tr>\n",
       "  </tbody>\n",
       "</table>\n",
       "</div>"
      ],
      "text/plain": [
       "classificador      0      1\n",
       "Relevância                 \n",
       "0              0.415  0.195\n",
       "1              0.170  0.220"
      ]
     },
     "execution_count": 223,
     "metadata": {},
     "output_type": "execute_result"
    }
   ],
   "source": [
    "analise_tap = pd.crosstab(test_classf_aprende['Relevância'], test_classf_aprende['classificador'],normalize=True)\n",
    "analise_tap"
   ]
  },
  {
   "cell_type": "code",
   "execution_count": 224,
   "metadata": {},
   "outputs": [
    {
     "name": "stdout",
     "output_type": "stream",
     "text": [
      "O classificador acertou a classificação de 0.68 das mensagens irrelevantes e errou 0.32\n"
     ]
    }
   ],
   "source": [
    "pctg_verd_positap = analise_tap.iloc[1,1]/(analise_tap.iloc[1,1] + analise_tap.iloc[1,0])\n",
    "pctg_falso_negatap = analise_tap.iloc[1,0]/(analise_tap.iloc[1,1] + analise_tap.iloc[1,0])\n",
    "pctg_verd_negatap = analise_tap.iloc[0,0]/(analise_tap.iloc[0,0] + analise_tap.iloc[0,1])\n",
    "pctg_falso_positap = analise_tap.iloc[0,1]/(analise_tap.iloc[0,0] + analise_tap.iloc[0,1])\n",
    "\n",
    "print('O classificador acertou a classificação de {0:.2f} das mensagens irrelevantes e errou {1:.2f}'.format(pctg_verd_negatap,pctg_falso_positap))"
   ]
  },
  {
   "cell_type": "code",
   "execution_count": 225,
   "metadata": {},
   "outputs": [
    {
     "name": "stdout",
     "output_type": "stream",
     "text": [
      "O classificador acertou a classificação de 0.56 das mensagens relevantes e errou 0.44\n"
     ]
    }
   ],
   "source": [
    "print('O classificador acertou a classificação de {0:.2f} das mensagens relevantes e errou {1:.2f}'.format(pctg_verd_positap,pctg_falso_negatap))"
   ]
  },
  {
   "cell_type": "markdown",
   "metadata": {},
   "source": [
    "___\n",
    "### Concluindo"
   ]
  },
  {
   "cell_type": "code",
   "execution_count": null,
   "metadata": {},
   "outputs": [],
   "source": []
  },
  {
   "cell_type": "code",
   "execution_count": null,
   "metadata": {},
   "outputs": [],
   "source": []
  },
  {
   "cell_type": "code",
   "execution_count": null,
   "metadata": {},
   "outputs": [],
   "source": []
  },
  {
   "cell_type": "code",
   "execution_count": null,
   "metadata": {},
   "outputs": [],
   "source": []
  },
  {
   "cell_type": "markdown",
   "metadata": {},
   "source": [
    "___\n",
    "### Qualidade do Classificador a partir de novas separações dos tweets entre Treinamento e Teste\n",
    "\n",
    "Caso for fazer esse item do Projeto"
   ]
  },
  {
   "cell_type": "code",
   "execution_count": null,
   "metadata": {},
   "outputs": [],
   "source": []
  },
  {
   "cell_type": "code",
   "execution_count": null,
   "metadata": {},
   "outputs": [],
   "source": []
  },
  {
   "cell_type": "code",
   "execution_count": null,
   "metadata": {},
   "outputs": [],
   "source": []
  },
  {
   "cell_type": "markdown",
   "metadata": {},
   "source": [
    "___\n",
    "## Aperfeiçoamento:\n",
    "\n",
    "Trabalhos que conseguirem pelo menos conceito B vão evoluir em conceito dependendo da quantidade de itens avançados:\n",
    "\n",
    "* IMPLEMENTOU outras limpezas e transformações que não afetem a qualidade da informação contida nos tweets. Ex: stemming, lemmatization, stopwords\n",
    "* CORRIGIU separação de espaços entre palavras e emojis ou entre emojis e emojis\n",
    "* CRIOU categorias intermediárias de relevância baseadas na probabilidade: ex.: muito relevante, relevante, neutro, irrelevante, muito irrelevante. Pelo menos quatro categorias, com adição de mais tweets na base, conforme enunciado. (OBRIGATÓRIO PARA TRIOS, sem contar como item avançado)\n",
    "* EXPLICOU porquê não pode usar o próprio classificador para gerar mais amostras de treinamento\n",
    "* PROPÔS diferentes cenários para Naïve Bayes fora do contexto do projeto\n",
    "* SUGERIU e EXPLICOU melhorias reais com indicações concretas de como implementar (indicar como fazer e indicar material de pesquisa)\n",
    "* FEZ o item 6. Qualidade do Classificador a partir de novas separações dos tweets entre Treinamento e Teste descrito no enunciado do projeto (OBRIGATÓRIO para conceitos A ou A+)"
   ]
  },
  {
   "cell_type": "markdown",
   "metadata": {},
   "source": [
    "___\n",
    "## Referências"
   ]
  },
  {
   "cell_type": "markdown",
   "metadata": {},
   "source": [
    "[Naive Bayes and Text Classification](https://arxiv.org/pdf/1410.5329.pdf)  **Mais completo**\n",
    "\n",
    "[A practical explanation of a Naive Bayes Classifier](https://monkeylearn.com/blog/practical-explanation-naive-bayes-classifier/) **Mais simples**"
   ]
  },
  {
   "cell_type": "code",
   "execution_count": null,
   "metadata": {},
   "outputs": [],
   "source": []
  }
 ],
 "metadata": {
  "kernelspec": {
   "display_name": "Python 3",
   "language": "python",
   "name": "python3"
  },
  "language_info": {
   "codemirror_mode": {
    "name": "ipython",
    "version": 3
   },
   "file_extension": ".py",
   "mimetype": "text/x-python",
   "name": "python",
   "nbconvert_exporter": "python",
   "pygments_lexer": "ipython3",
   "version": "3.8.5"
  }
 },
 "nbformat": 4,
 "nbformat_minor": 4
}
